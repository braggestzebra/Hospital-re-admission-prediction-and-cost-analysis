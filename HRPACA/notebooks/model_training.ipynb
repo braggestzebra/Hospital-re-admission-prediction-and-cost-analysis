{
 "cells": [
  {
   "cell_type": "code",
   "execution_count": null,
   "metadata": {},
   "outputs": [],
   "source": [
    "import pandas as pd\n",
    "from sklearn.model_selection import train_test_split\n",
    "from sklearn.linear_model import LinearRegression\n",
    "from sklearn.metrics import mean_absolute_error, mean_squared_error\n",
    "import joblib\n",
    "\n",
    "# Load the cleaned dataset\n",
    "data = pd.read_csv('cleaned_hospital_data.csv')\n",
    "\n",
    "# Define features (X) and target (y)\n",
    "X = data.drop('target_column', axis=1)  # replace 'target_column' with the actual target column name\n",
    "y = data['target_column']  # replace 'target_column' with the actual target column name\n",
    "\n",
    "# Split data into training and testing sets\n",
    "X_train, X_test, y_train, y_test = train_test_split(X, y, test_size=0.2, random_state=42)\n",
    "\n",
    "# Train a Linear Regression Model\n",
    "model = LinearRegression()\n",
    "model.fit(X_train, y_train)\n",
    "\n",
    "# Make predictions\n",
    "y_pred = model.predict(X_test)\n",
    "\n",
    "# Evaluate Mean Absolute Error (MAE) & Mean Squared Error (MSE)\n",
    "mae = mean_absolute_error(y_test, y_pred)\n",
    "mse = mean_squared_error(y_test, y_pred)\n",
    "\n",
    "print(f'Mean Absolute Error (MAE): {mae}')\n",
    "print(f'Mean Squared Error (MSE): {mse}')\n",
    "\n",
    "# Save the trained model\n",
    "joblib.dump(model, 'linear_regression_model.pkl')"
   ]
  }
 ],
 "metadata": {
  "language_info": {
   "name": "python"
  }
 },
 "nbformat": 4,
 "nbformat_minor": 2
}
