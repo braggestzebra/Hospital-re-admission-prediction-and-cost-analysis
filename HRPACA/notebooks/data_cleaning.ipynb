{
 "cells": [
  {
   "cell_type": "code",
   "execution_count": null,
   "metadata": {},
   "outputs": [],
   "source": [
    "import pandas as pd\n",
    "\n",
    "# Load dataset\n",
    "file_path = \"data/FY_2025_Hospital_Readmissions_Reduction_Program_Hospital.csv\"\n",
    "df = pd.read_csv(file_path)\n",
    "\n",
    "# Display the first few rows\n",
    "print(df.head())\n",
    "\n",
    "# Check for missing values\n",
    "print(\"\\nMissing values in each column:\\n\", df.isnull().sum())\n",
    "# Drop unnecessary columns\n",
    "df = df.drop(columns=[\"Facility Name\", \"Facility ID\", \"Footnote\", \"Start Date\", \"End Date\"])\n",
    "\n",
    "# Convert \"Too Few to Report\" to NaN in 'Number of Readmissions'\n",
    "df[\"Number of Readmissions\"] = pd.to_numeric(df[\"Number of Readmissions\"], errors='coerce')\n",
    "\n",
    "# Fill missing values in numeric columns with the median\n",
    "numeric_cols = [\"Number of Discharges\", \"Predicted Readmission Rate\", \"Expected Readmission Rate\", \"Number of Readmissions\"]\n",
    "df[numeric_cols] = df[numeric_cols].fillna(df[numeric_cols].median())\n",
    "\n",
    "\n",
    "# Display the remaining columns\n",
    "print(\"Remaining columns after dropping unnecessary ones:\\n\", df.columns)\n",
    "# Drop rows where the target variable ('Excess Readmission Ratio') is missing\n",
    "df = df.dropna(subset=[\"Excess Readmission Ratio\"])\n",
    "\n",
    "# Fill missing values in numeric columns with the median\n",
    "numeric_cols = [\"Number of Discharges\", \"Predicted Readmission Rate\", \"Expected Readmission Rate\", \"Number of Readmissions\"]\n",
    "df[numeric_cols] = df[numeric_cols].fillna(df[numeric_cols].median())\n",
    "\n",
    "# Convert categorical columns (State, Measure Name) into numerical using one-hot encoding\n",
    "df = pd.get_dummies(df, columns=[\"State\", \"Measure Name\"], drop_first=True)\n",
    "\n",
    "# Check if there are any missing values left\n",
    "print(\"\\nMissing values after cleaning:\\n\", df.isnull().sum())\n",
    "\n",
    "# Save cleaned dataset\n",
    "df.to_csv(\"data/cleaned_hospital_data.csv\", index=False)\n",
    "print(\"\\n✅ Data cleaning complete! Cleaned data saved.\")\n",
    "# Load cleaned dataset and display basic stats\n",
    "df_cleaned = pd.read_csv(\"data/cleaned_hospital_data.csv\")\n",
    "print(df_cleaned.info())  # Check data types\n",
    "print(df_cleaned.head())  # Show first rows\n"
   ]
  }
 ],
 "metadata": {
  "language_info": {
   "name": "python"
  }
 },
 "nbformat": 4,
 "nbformat_minor": 2
}
