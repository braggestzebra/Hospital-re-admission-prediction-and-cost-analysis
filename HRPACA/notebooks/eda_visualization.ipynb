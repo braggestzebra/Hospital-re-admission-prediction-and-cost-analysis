{
 "cells": [
  {
   "cell_type": "code",
   "execution_count": null,
   "metadata": {
    "vscode": {
     "languageId": "r"
    }
   },
   "outputs": [],
   "source": [
    "import pandas as pd\n",
    "import matplotlib.pyplot as plt\n",
    "import seaborn as sns\n",
    "from matplotlib.backends.backend_pdf import PdfPages\n",
    "# Load the cleaned dataset\n",
    "df = pd.read_csv('cleaned_hospital_data.csv')\n",
    "\n",
    "# Visualize the distribution of readmission ratios\n",
    "plt.figure(figsize=(10, 6))\n",
    "sns.histplot(df['readmission_ratio'], kde=True)\n",
    "plt.title('Distribution of Readmission Ratios')\n",
    "plt.xlabel('Readmission Ratio')\n",
    "plt.ylabel('Frequency')\n",
    "plt.show()\n",
    "\n",
    "# Compare readmission rates by medical condition\n",
    "plt.figure(figsize=(12, 8))\n",
    "sns.boxplot(x='medical_condition', y='readmission_ratio', data=df)\n",
    "plt.title('Readmission Rates by Medical Condition')\n",
    "plt.xlabel('Medical Condition')\n",
    "plt.ylabel('Readmission Ratio')\n",
    "plt.xticks(rotation=90)\n",
    "plt.show()\n",
    "\n",
    "# Compare readmission rates by state\n",
    "plt.figure(figsize=(12, 8))\n",
    "sns.boxplot(x='state', y='readmission_ratio', data=df)\n",
    "plt.title('Readmission Rates by State')\n",
    "plt.xlabel('State')\n",
    "plt.ylabel('Readmission Ratio')\n",
    "plt.xticks(rotation=90)\n",
    "plt.show()"
   ]
  },
  {
   "cell_type": "code",
   "execution_count": null,
   "metadata": {
    "vscode": {
     "languageId": "r"
    }
   },
   "outputs": [],
   "source": [
    "\n",
    "\n",
    "# Create a PdfPages object\n",
    "with PdfPages('reports/readmission_analysis.pdf') as pdf:\n",
    "    # Visualize the distribution of readmission ratios\n",
    "    plt.figure(figsize=(10, 6))\n",
    "    sns.histplot(df['readmission_ratio'], kde=True)\n",
    "    plt.title('Distribution of Readmission Ratios')\n",
    "    plt.xlabel('Readmission Ratio')\n",
    "    plt.ylabel('Frequency')\n",
    "    pdf.savefig()  # Save the current figure\n",
    "    plt.close()\n",
    "\n",
    "    # Compare readmission rates by medical condition\n",
    "    plt.figure(figsize=(12, 8))\n",
    "    sns.boxplot(x='medical_condition', y='readmission_ratio', data=df)\n",
    "    plt.title('Readmission Rates by Medical Condition')\n",
    "    plt.xlabel('Medical Condition')\n",
    "    plt.ylabel('Readmission Ratio')\n",
    "    plt.xticks(rotation=90)\n",
    "    pdf.savefig()  # Save the current figure\n",
    "    plt.close()\n",
    "\n",
    "    # Compare readmission rates by state\n",
    "    plt.figure(figsize=(12, 8))\n",
    "    sns.boxplot(x='state', y='readmission_ratio', data=df)\n",
    "    plt.title('Readmission Rates by State')\n",
    "    plt.xlabel('State')\n",
    "    plt.ylabel('Readmission Ratio')\n",
    "    plt.xticks(rotation=90)\n",
    "    pdf.savefig()  # Save the current figure\n",
    "    plt.close()"
   ]
  }
 ],
 "metadata": {
  "language_info": {
   "name": "python"
  }
 },
 "nbformat": 4,
 "nbformat_minor": 2
}
